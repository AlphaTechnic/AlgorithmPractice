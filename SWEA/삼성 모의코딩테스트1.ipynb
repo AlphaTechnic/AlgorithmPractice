{
 "cells": [
  {
   "cell_type": "code",
   "execution_count": 1,
   "metadata": {},
   "outputs": [
    {
     "ename": "SyntaxError",
     "evalue": "unexpected EOF while parsing (<ipython-input-1-551cd505d240>, line 5)",
     "output_type": "error",
     "traceback": [
      "\u001b[1;36m  File \u001b[1;32m\"<ipython-input-1-551cd505d240>\"\u001b[1;36m, line \u001b[1;32m5\u001b[0m\n\u001b[1;33m    \u001b[0m\n\u001b[1;37m    ^\u001b[0m\n\u001b[1;31mSyntaxError\u001b[0m\u001b[1;31m:\u001b[0m unexpected EOF while parsing\n"
     ]
    }
   ],
   "source": [
    "num_case = input()\n",
    "for i in range(num_case):\n",
    "    \n",
    "    3 17 1 \n",
    "    \n"
   ]
  },
  {
   "cell_type": "code",
   "execution_count": 2,
   "metadata": {
    "scrolled": false
   },
   "outputs": [
    {
     "ename": "SyntaxError",
     "evalue": "invalid syntax (<ipython-input-2-623cabd1c365>, line 1)",
     "output_type": "error",
     "traceback": [
      "\u001b[1;36m  File \u001b[1;32m\"<ipython-input-2-623cabd1c365>\"\u001b[1;36m, line \u001b[1;32m1\u001b[0m\n\u001b[1;33m    type(3 17 2)\u001b[0m\n\u001b[1;37m            ^\u001b[0m\n\u001b[1;31mSyntaxError\u001b[0m\u001b[1;31m:\u001b[0m invalid syntax\n"
     ]
    }
   ],
   "source": [
    "T = int(input())\n",
    "data = []\n",
    "for _ in range(T):\n",
    "    numbers = list(map(int, input().split()))\n",
    "    data.append(numbers)"
   ]
  },
  {
   "cell_type": "code",
   "execution_count": 11,
   "metadata": {},
   "outputs": [
    {
     "name": "stdout",
     "output_type": "stream",
     "text": [
      "2\n",
      "3 17 1 39 8 41 2 32 99 2\n",
      "22 8 5 123 7 2 63 7 3 46\n",
      "[[3, 17, 1, 39, 8, 41, 2, 32, 99, 2], [22, 8, 5, 123, 7, 2, 63, 7, 3, 46]]\n"
     ]
    }
   ],
   "source": [
    "T = int(input())\n",
    "data = []\n",
    "for _ in range(T):\n",
    "    num = input().split()\n",
    "    map_num = map(int, num)\n",
    "    list_num = list(map_num)\n",
    "    data.append(list_num)\n",
    "\n",
    "print(data)"
   ]
  },
  {
   "cell_type": "code",
   "execution_count": 43,
   "metadata": {
    "scrolled": true
   },
   "outputs": [
    {
     "ename": "SyntaxError",
     "evalue": "invalid syntax (<ipython-input-43-22599da3cd8c>, line 16)",
     "output_type": "error",
     "traceback": [
      "\u001b[1;36m  File \u001b[1;32m\"<ipython-input-43-22599da3cd8c>\"\u001b[1;36m, line \u001b[1;32m16\u001b[0m\n\u001b[1;33m    range(1:3)\u001b[0m\n\u001b[1;37m           ^\u001b[0m\n\u001b[1;31mSyntaxError\u001b[0m\u001b[1;31m:\u001b[0m invalid syntax\n"
     ]
    }
   ],
   "source": [
    "sumlist = []\n",
    "for i in data:\n",
    "    l = []\n",
    "    for k in i:\n",
    "        if k % 2 == 1:\n",
    "            l.append(k)\n",
    "        else:\n",
    "            continue\n",
    "    sumlist.append(l)\n",
    "\n",
    "for i in range(T):\n",
    "    print(T)\n",
    "    print(sumlist)\n",
    "    print( sum(sumlist[i]) )\n",
    "    \n",
    "    "
   ]
  },
  {
   "cell_type": "code",
   "execution_count": 28,
   "metadata": {},
   "outputs": [
    {
     "name": "stdout",
     "output_type": "stream",
     "text": [
      "[[3, 17, 1, 39, 41, 99], [5, 123, 7, 63, 7, 3], [5, 123, 7, 63, 7, 3]]\n"
     ]
    }
   ],
   "source": [
    "print (sumlist)"
   ]
  },
  {
   "cell_type": "code",
   "execution_count": 46,
   "metadata": {},
   "outputs": [
    {
     "name": "stdout",
     "output_type": "stream",
     "text": [
      "3\n",
      "3 17 1 39 8 41 2 32 99 2\n",
      "22 8 5 123 7 2 63 7 3 46\n",
      "6 63 2 3 58 76 21 33 8 1\n",
      "#1 200\n",
      "#2 208\n",
      "#3 121\n"
     ]
    }
   ],
   "source": [
    "T = int(input())\n",
    "data = []\n",
    "for _ in range(T):\n",
    "    num = input().split()\n",
    "    map_num = map(int, num)\n",
    "    list_num = list(map_num)\n",
    "    data.append(list_num)\n",
    "    \n",
    "sumlist = []\n",
    "for i in data:\n",
    "    l = []\n",
    "    for k in i:\n",
    "        if k % 2 == 1:\n",
    "            l.append(k)\n",
    "        else:\n",
    "            continue\n",
    "    sumlist.append(l)\n",
    "\n",
    "for i in range(T):\n",
    "    a = sum(sumlist[i])\n",
    "    print ('#%s' % (i+1) ,a)\n",
    "    "
   ]
  }
 ],
 "metadata": {
  "kernelspec": {
   "display_name": "Python 3",
   "language": "python",
   "name": "python3"
  },
  "language_info": {
   "codemirror_mode": {
    "name": "ipython",
    "version": 3
   },
   "file_extension": ".py",
   "mimetype": "text/x-python",
   "name": "python",
   "nbconvert_exporter": "python",
   "pygments_lexer": "ipython3",
   "version": "3.7.5"
  }
 },
 "nbformat": 4,
 "nbformat_minor": 2
}
