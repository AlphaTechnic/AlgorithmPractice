{
 "cells": [
  {
   "cell_type": "code",
   "execution_count": 32,
   "metadata": {},
   "outputs": [
    {
     "ename": "SyntaxError",
     "evalue": "invalid syntax (<ipython-input-32-0e967031c65a>, line 2)",
     "output_type": "error",
     "traceback": [
      "\u001b[1;36m  File \u001b[1;32m\"<ipython-input-32-0e967031c65a>\"\u001b[1;36m, line \u001b[1;32m2\u001b[0m\n\u001b[1;33m    numbers.\u001b[0m\n\u001b[1;37m            ^\u001b[0m\n\u001b[1;31mSyntaxError\u001b[0m\u001b[1;31m:\u001b[0m invalid syntax\n"
     ]
    }
   ],
   "source": [
    "def clap(numbers):\n",
    "    numbers.\n",
    "    clap_3 = numbers.replace('3', '-')\n",
    "    clap_3_6 = clap_3.replace('6', '-')\n",
    "    clap_3_6_9 = clap_3_6.replace('9', '-')\n",
    "    return clap_3_6_9\n",
    "\n",
    "a = [1,2,3,4,5,6,7,8,9,33,35]\n",
    "for i in a:\n",
    "    print(\"%s\", %i)"
   ]
  },
  {
   "cell_type": "code",
   "execution_count": 58,
   "metadata": {},
   "outputs": [
    {
     "data": {
      "text/plain": [
       "['1', '2', '-', '4', '5', '6', '7', '8', '9', '--', '-']"
      ]
     },
     "execution_count": 58,
     "metadata": {},
     "output_type": "execute_result"
    }
   ],
   "source": [
    "a = [1,2,3,4,5,6,7,8,9,33,35]\n",
    "b = list(map(str, a))\n",
    "d = []\n",
    "e = []\n",
    "for i in b:\n",
    "    c = i.replace('3', '-')\n",
    "    d.append(c)\n",
    "    \n",
    "for k in d:\n",
    "    l = k.count('-')\n",
    "    if l == 1:\n",
    "        k = '-'\n",
    "    elif l == 2:\n",
    "        k = '--'\n",
    "    e.append(k)\n",
    "e"
   ]
  },
  {
   "cell_type": "code",
   "execution_count": null,
   "metadata": {},
   "outputs": [],
   "source": [
    "    for num in num_list_str:\n",
    "        a = num.replace('3', '-')\n",
    "        clear3_list.append(a)\n",
    "    for num in clear3_list:\n",
    "        b = num.replace('6', '-')\n",
    "        clear3_6_list.append(b)\n",
    "     for num in clear3_6_list:\n",
    "        c = num.replace('9', '-')\n",
    "        clear3_6_9_list.append(c)"
   ]
  },
  {
   "cell_type": "code",
   "execution_count": 59,
   "metadata": {},
   "outputs": [
    {
     "data": {
      "text/plain": [
       "['1', '2', '-', '4', '5', '-', '7', '8', '-', '--', '-', '--']"
      ]
     },
     "execution_count": 59,
     "metadata": {},
     "output_type": "execute_result"
    }
   ],
   "source": [
    "def clap(number_list):\n",
    "    num_list_str = list(map(str, number_list))\n",
    "\n",
    "    clear3_list = []\n",
    "    clear3_6_list = []\n",
    "    clear3_6_9_list = []\n",
    "    list_clap = []\n",
    "\n",
    "    for num in num_list_str:\n",
    "        a = num.replace('3', '-')\n",
    "        clear3_list.append(a)\n",
    "    for num in clear3_list:\n",
    "        b = num.replace('6', '-')\n",
    "        clear3_6_list.append(b)\n",
    "    for num in clear3_6_list:\n",
    "        c = num.replace('9', '-')\n",
    "        clear3_6_9_list.append(c)\n",
    "\n",
    "    for num in clear3_6_9_list:\n",
    "        k = num.count('-')\n",
    "        if k == 1:\n",
    "            num = '-'\n",
    "        elif k == 2:\n",
    "            num = '--'\n",
    "        list_clap.append(num)\n",
    "\n",
    "    return list_clap\n",
    "\n",
    "clap([1,2,3,4,5,6,7,8,9,33,35,236])"
   ]
  },
  {
   "cell_type": "code",
   "execution_count": 64,
   "metadata": {},
   "outputs": [
    {
     "name": "stdout",
     "output_type": "stream",
     "text": [
      "3\n",
      "1 2 - "
     ]
    }
   ],
   "source": [
    "N = int(input())\n",
    "case = list(range(1, (N+1)))\n",
    "\n",
    "\n",
    "def clap(number_list):\n",
    "    num_list_str = list(map(str, number_list))\n",
    "\n",
    "    clear3_list = []\n",
    "    clear3_6_list = []\n",
    "    clear3_6_9_list = []\n",
    "    list_clap = []\n",
    "\n",
    "    for num in num_list_str:\n",
    "        a = num.replace('3', '-')\n",
    "        clear3_list.append(a)\n",
    "    for num in clear3_list:\n",
    "        b = num.replace('6', '-')\n",
    "        clear3_6_list.append(b)\n",
    "    for num in clear3_6_list:\n",
    "        c = num.replace('9', '-')\n",
    "        clear3_6_9_list.append(c)\n",
    "\n",
    "    for num in clear3_6_9_list:\n",
    "        k = num.count('-')\n",
    "        if k == 1:\n",
    "            num = '-'\n",
    "        elif k == 2:\n",
    "            num = '--'\n",
    "        list_clap.append(num)\n",
    "\n",
    "    return list_clap\n",
    "\n",
    "\n",
    "for i in clap(case):\n",
    "    print(i, end=' ')"
   ]
  },
  {
   "cell_type": "code",
   "execution_count": 70,
   "metadata": {},
   "outputs": [
    {
     "name": "stdout",
     "output_type": "stream",
     "text": [
      "3\n",
      "KOREAKOREAKOREAKOREAKOREAKOREA\n",
      "SAMSUNGSAMSUNGSAMSUNGSAMSUNGSA\n",
      "GALAXYGALAXYGALAXYGALAXYGALAXY  \n",
      "#1 5\n",
      "#2 7\n",
      "#3 6\n"
     ]
    }
   ],
   "source": [
    "T = int(input())\n",
    "period_list = []\n",
    "\n",
    "for _ in range(T):\n",
    "    word = input()\n",
    "    if word[0] == word[1] == word[2] == word[3] == word[4] == word[5] == word[6] == word[7] == word[8] == word[9] == word[10] == word[11] == word[12] == word[13] == word[14]:\n",
    "        period_list.append(1)\n",
    "    elif word[0:2] == word[2:4] == word[4:6] == word[6:8] == word[8:10] == word[10:12] == word[12:14]:\n",
    "        period_list.append(2)\n",
    "    elif word[0:3] == word[3:6] == word[6:9] == word[9:12] == word[12:15]:\n",
    "        period_list.append(3)\n",
    "    elif word[0:4] == word[4:8] == word[8:12] == word[12:16]:\n",
    "        period_list.append(4)\n",
    "    elif word[0:5] == word[5:10] == word[10:15]:\n",
    "        period_list.append(5)\n",
    "    elif word[0:6] == word[6:12] == word[12:18]:\n",
    "        period_list.append(6)\n",
    "    elif word[0:7] == word[7:14]:\n",
    "        period_list.append(7)            \n",
    "    elif word[0:8] == word[8:16]:\n",
    "        period_list.append(8)\n",
    "    elif word[0:9] == word[9:18]:\n",
    "        period_list.append(9)\n",
    "    elif word[0:10] == word[10:20]:\n",
    "        period_list.append(10)\n",
    "    elif word[0:11] == word[11:22]:\n",
    "        period_list.append(11)\n",
    "    elif word[0:12] == word[12:24]:\n",
    "        period_list.append(12)\n",
    "    elif word[0:13] == word[13:26]:\n",
    "        period_list.append(13)\n",
    "    elif word[0:14] == word[14:28]:\n",
    "        period_list.append(14)\n",
    "    elif word[0:15] == word[15:30]:\n",
    "        period_list.append(15)\n",
    " \n",
    "for index, case in enumerate(period_list):\n",
    "    print(\"#%s\" % (index + 1), case)\n"
   ]
  },
  {
   "cell_type": "code",
   "execution_count": 68,
   "metadata": {},
   "outputs": [
    {
     "data": {
      "text/plain": [
       "[1]"
      ]
     },
     "execution_count": 68,
     "metadata": {},
     "output_type": "execute_result"
    }
   ],
   "source": [
    "a = [1,1,2]\n",
    "\n",
    "a[0:1]"
   ]
  }
 ],
 "metadata": {
  "kernelspec": {
   "display_name": "Python 3",
   "language": "python",
   "name": "python3"
  },
  "language_info": {
   "codemirror_mode": {
    "name": "ipython",
    "version": 3
   },
   "file_extension": ".py",
   "mimetype": "text/x-python",
   "name": "python",
   "nbconvert_exporter": "python",
   "pygments_lexer": "ipython3",
   "version": "3.7.5"
  }
 },
 "nbformat": 4,
 "nbformat_minor": 2
}
