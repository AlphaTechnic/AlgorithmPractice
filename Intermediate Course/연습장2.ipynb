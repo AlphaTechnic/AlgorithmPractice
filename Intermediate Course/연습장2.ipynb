{
 "cells": [
  {
   "cell_type": "code",
   "execution_count": 10,
   "metadata": {},
   "outputs": [
    {
     "name": "stdout",
     "output_type": "stream",
     "text": [
      "3\n",
      "3 6\n",
      "#1 1\n",
      "5 15\n",
      "#2 1\n",
      "5 10\n",
      "#3 0\n"
     ]
    }
   ],
   "source": [
    "T = int(input())\n",
    "\n",
    "A = [1, 2, 3, 4, 5, 6, 7, 8, 9, 10, 11, 12]\n",
    "n = len(A)\n",
    "subsets_A = []\n",
    "subset_A = []\n",
    "\n",
    "for i in range(1<<n):\n",
    "    for j in range(n):\n",
    "        if i & (1<<j):\n",
    "            subset_A.append(A[j])\n",
    "    subsets_A.append(subset_A)\n",
    "    subset_A = []\n",
    "\n",
    "for t in range(T):\n",
    "    N, K = map(int, input().split())\n",
    "\n",
    "    lenN_subsets_A = []\n",
    "    for subset in subsets_A:\n",
    "        if len(subset) == N:\n",
    "            lenN_subsets_A.append(subset)\n",
    "\n",
    "    count = 0\n",
    "    for lenN_subset in lenN_subsets_A:\n",
    "        if sum(lenN_subset) == K:\n",
    "            count += 1\n",
    "        \n",
    "    print(\"#%s\" %(t + 1), count)\n",
    "\n",
    "    "
   ]
  },
  {
   "cell_type": "code",
   "execution_count": 2,
   "metadata": {},
   "outputs": [
    {
     "ename": "SyntaxError",
     "evalue": "invalid syntax (<ipython-input-2-85c00ed18174>, line 3)",
     "output_type": "error",
     "traceback": [
      "\u001b[1;36m  File \u001b[1;32m\"<ipython-input-2-85c00ed18174>\"\u001b[1;36m, line \u001b[1;32m3\u001b[0m\n\u001b[1;33m    print(a++)\u001b[0m\n\u001b[1;37m             ^\u001b[0m\n\u001b[1;31mSyntaxError\u001b[0m\u001b[1;31m:\u001b[0m invalid syntax\n"
     ]
    }
   ],
   "source": [
    "a = 1\n",
    "\n",
    "# ++a 1을 더해준 뒤(++)  a 돌려줌(a)\n",
    "# a++ a를 돌려주고(a) 1더해놓음(++)\n",
    "\n",
    "print(a++)"
   ]
  },
  {
   "cell_type": "code",
   "execution_count": null,
   "metadata": {},
   "outputs": [],
   "source": []
  },
  {
   "cell_type": "code",
   "execution_count": 5,
   "metadata": {},
   "outputs": [
    {
     "name": "stdout",
     "output_type": "stream",
     "text": [
      "1\n",
      "400 300 350\n",
      "#1 A\n"
     ]
    }
   ],
   "source": [
    "T = int(input())\n",
    "for t in range(T):\n",
    "    P, Pa, Pb = map(int, input().split())\n",
    "    l, r = 1, P\n",
    "    c = int((l+r)/2)\n",
    "    \n",
    "    count_a = 0\n",
    "    while c != Pa:\n",
    "        if c < Pa:\n",
    "            l = c\n",
    "            c = int((l+r)/2)\n",
    "            count_a += 1\n",
    "        elif c > Pa:\n",
    "            r = c\n",
    "            c = int((l+r)/2)\n",
    "            count_a += 1\n",
    "            \n",
    "    l, r = 1, P\n",
    "    c = int((l+r)/2)\n",
    "    \n",
    "    count_b = 0\n",
    "    while c != Pb:\n",
    "        if c < Pb:\n",
    "            l = c\n",
    "            c = int((l+r)/2)\n",
    "            count_b += 1\n",
    "        elif c > Pb:\n",
    "            r = c\n",
    "            c = int((l+r)/2)\n",
    "            count_b += 1\n",
    "            \n",
    "    if count_a < count_b:\n",
    "        print(\"#%s\" % (t + 1), \"A\")\n",
    "    elif count_a > count_b:\n",
    "        print(\"#%s\" % (t + 1), \"B\")\n",
    "    else:\n",
    "        print(\"#%s\" % (t + 1), '0')\n",
    "    \n",
    "    \n",
    "    "
   ]
  },
  {
   "cell_type": "code",
   "execution_count": 1,
   "metadata": {},
   "outputs": [
    {
     "ename": "KeyboardInterrupt",
     "evalue": "",
     "output_type": "error",
     "traceback": [
      "\u001b[1;31m---------------------------------------------------------------------------\u001b[0m",
      "\u001b[1;31mKeyboardInterrupt\u001b[0m                         Traceback (most recent call last)",
      "\u001b[1;32m<ipython-input-1-0022285c5e8f>\u001b[0m in \u001b[0;36m<module>\u001b[1;34m\u001b[0m\n\u001b[0;32m     23\u001b[0m         \u001b[0mc\u001b[0m \u001b[1;33m=\u001b[0m \u001b[0mint\u001b[0m\u001b[1;33m(\u001b[0m\u001b[1;33m(\u001b[0m\u001b[0ml\u001b[0m\u001b[1;33m+\u001b[0m\u001b[0mr\u001b[0m\u001b[1;33m)\u001b[0m\u001b[1;33m/\u001b[0m\u001b[1;36m2\u001b[0m\u001b[1;33m)\u001b[0m\u001b[1;33m\u001b[0m\u001b[1;33m\u001b[0m\u001b[0m\n\u001b[0;32m     24\u001b[0m         \u001b[0mcount_b\u001b[0m \u001b[1;33m+=\u001b[0m \u001b[1;36m1\u001b[0m\u001b[1;33m\u001b[0m\u001b[1;33m\u001b[0m\u001b[0m\n\u001b[1;32m---> 25\u001b[1;33m     \u001b[1;32melif\u001b[0m \u001b[0mc\u001b[0m \u001b[1;33m>\u001b[0m \u001b[0mPb\u001b[0m\u001b[1;33m:\u001b[0m\u001b[1;33m\u001b[0m\u001b[1;33m\u001b[0m\u001b[0m\n\u001b[0m\u001b[0;32m     26\u001b[0m         \u001b[0mr\u001b[0m \u001b[1;33m=\u001b[0m \u001b[0mc\u001b[0m\u001b[1;33m\u001b[0m\u001b[1;33m\u001b[0m\u001b[0m\n\u001b[0;32m     27\u001b[0m         \u001b[0mc\u001b[0m \u001b[1;33m=\u001b[0m \u001b[0mint\u001b[0m\u001b[1;33m(\u001b[0m\u001b[1;33m(\u001b[0m\u001b[0ml\u001b[0m\u001b[1;33m+\u001b[0m\u001b[0mr\u001b[0m\u001b[1;33m)\u001b[0m\u001b[1;33m/\u001b[0m\u001b[1;36m2\u001b[0m\u001b[1;33m)\u001b[0m\u001b[1;33m\u001b[0m\u001b[1;33m\u001b[0m\u001b[0m\n",
      "\u001b[1;31mKeyboardInterrupt\u001b[0m: "
     ]
    }
   ],
   "source": [
    "P, Pa, Pb = 400, 300, 350\n",
    "l, r = 1, P\n",
    "c = int((l+r)/2)\n",
    "\n",
    "count_a = 0\n",
    "while c != Pa:\n",
    "    if c < Pa:\n",
    "        l = c\n",
    "        c = int((l+r)/2)\n",
    "        count_a += 1\n",
    "    elif c > Pa:\n",
    "        r = c\n",
    "        c = int((l+r)/2)\n",
    "        count_a += 1\n",
    "\n",
    "l, r = 1, P\n",
    "c = int((l+r)/2)\n",
    "\n",
    "count_b = 0\n",
    "while c != Pb:\n",
    "    if c < Pb:\n",
    "        l = c\n",
    "        c = int((l+r)/2)\n",
    "        count_b += 1\n",
    "    elif c > Pb:\n",
    "        r = c\n",
    "        c = int((l+r)/2)\n",
    "        count_b += 1\n",
    "\n",
    "if count_a < count_b:\n",
    "    print(\"A\")\n",
    "elif count_a > count_b:\n",
    "    print(\"B\")\n",
    "else:\n",
    "    print('0')\n",
    "    "
   ]
  },
  {
   "cell_type": "code",
   "execution_count": 28,
   "metadata": {},
   "outputs": [
    {
     "name": "stdout",
     "output_type": "stream",
     "text": [
      "3\n",
      "10\n",
      "1 2 3 4 5 6 7 8 9 10\n",
      "#1 10 1 9 2 8 3 7 4 6 5 \n",
      "10\n",
      "67 39 16 49 60 28 8 85 89 11\n",
      "#2 89 8 85 11 67 16 60 28 49 39 \n",
      "20\n",
      "3 69 21 46 43 60 62 97 64 30 17 88 18 98 71 75 59 36 9 26\n",
      "#3 98 3 97 9 88 17 75 18 71 21 \n"
     ]
    }
   ],
   "source": [
    "T = int(input())\n",
    "for t in range(T):\n",
    "    N = int(input())\n",
    "    numlist = sorted(list(map(int, input().split())), reverse = True)\n",
    "    sorted_list = []\n",
    "\n",
    "    if len(numlist) % 2 == 0:\n",
    "        while len(numlist) != 0:\n",
    "            sorted_list.append(numlist[0])\n",
    "            numlist.remove(numlist[0])\n",
    "            sorted_list.append(numlist[len(numlist)-1])\n",
    "            numlist.remove(numlist[len(numlist)-1])\n",
    "            \n",
    "        print(\"#%s\" % (t + 1), end = ' ')\n",
    "        for num in sorted_list[:10]:\n",
    "            print(num, end = ' ')\n",
    "        print()\n",
    "\n",
    "    if len(numlist) % 2 == 1:\n",
    "        while len(numlist) != 1:\n",
    "            sorted_list.append(numlist[0])\n",
    "            numlist.remove(numlist[0])\n",
    "            sorted_list.append(numlist[len(numlist)-1])\n",
    "            numlist.remove(numlist[len(numlist)-1])\n",
    "        sorted_list.append(numlist[0])\n",
    "        \n",
    "        print(\"#%s\" % (t + 1), end = ' ')\n",
    "        for num in sorted_list[:10]:\n",
    "            print(num, end = ' ')\n",
    "        print()\n",
    "\n"
   ]
  },
  {
   "cell_type": "code",
   "execution_count": 23,
   "metadata": {},
   "outputs": [
    {
     "name": "stdout",
     "output_type": "stream",
     "text": [
      "<generator object <genexpr> at 0x0000001EFB098AC8>\n"
     ]
    }
   ],
   "source": [
    "a=[2,3,4,1]\n",
    "print(i for i in a"
   ]
  },
  {
   "cell_type": "code",
   "execution_count": 9,
   "metadata": {},
   "outputs": [
    {
     "data": {
      "text/plain": [
       "4"
      ]
     },
     "execution_count": 9,
     "metadata": {},
     "output_type": "execute_result"
    }
   ],
   "source": [
    "round(4.5)"
   ]
  },
  {
   "cell_type": "code",
   "execution_count": 6,
   "metadata": {},
   "outputs": [],
   "source": [
    "a = [1,2,3,4,5]\n",
    "b = []\n",
    "for i in range(4,-1, 1):\n",
    "    print(a[i])"
   ]
  },
  {
   "cell_type": "code",
   "execution_count": 14,
   "metadata": {},
   "outputs": [
    {
     "data": {
      "text/plain": [
       "0"
      ]
     },
     "execution_count": 14,
     "metadata": {},
     "output_type": "execute_result"
    }
   ],
   "source": [
    "4%2"
   ]
  },
  {
   "cell_type": "code",
   "execution_count": 27,
   "metadata": {},
   "outputs": [
    {
     "name": "stdout",
     "output_type": "stream",
     "text": [
      "#1 10 9 8 7 #2 10 9 8 7 #3 10 9 8 7 #4 10 9 8 7 #5 10 9 8 7 #6 10 9 8 7 #7 10 9 8 7 #8 10 9 8 7 #9 10 9 8 7 #10 10 9 8 7 "
     ]
    }
   ],
   "source": [
    "sorted_list = [10, 9 ,8 ,7]\n",
    "for t in range(10):\n",
    "    print(\"#%s\" % (t+1), end=' ')\n",
    "    for num in sorted_list[:10]:\n",
    "        print(num, end=' ')"
   ]
  },
  {
   "cell_type": "code",
   "execution_count": 1,
   "metadata": {},
   "outputs": [
    {
     "name": "stdout",
     "output_type": "stream",
     "text": [
      "s\n",
      "p\n",
      "o\n",
      "r\n",
      "t\n",
      "s\n"
     ]
    }
   ],
   "source": [
    "for i in 'sports':\n",
    "    print(i)"
   ]
  },
  {
   "cell_type": "code",
   "execution_count": 10,
   "metadata": {},
   "outputs": [
    {
     "name": "stdout",
     "output_type": "stream",
     "text": [
      "3\n",
      "XYPV\n",
      "EOGGXYPVSY\n",
      "#1 1\n",
      "STJJ\n",
      "HOFSTJPVPP\n",
      "#2 0\n",
      "ZYJZXZTIBSDG\n",
      "TTXGZYJZXZTIBSDGWQLW\n",
      "#3 1\n"
     ]
    }
   ],
   "source": [
    "# 3\n",
    "# XYPV\n",
    "# EOGGXYPVSY\n",
    "# STJJ\n",
    "# HOFSTJPVPP\n",
    "# ZYJZXZTIBSDG\n",
    "# TTXGZYJZXZTIBSDGWQLW\n",
    "\n",
    "T = int(input())\n",
    "for t in range(T):\n",
    "    str1 = input()\n",
    "    str2 = input()\n",
    "\n",
    "    if str1 in str2:\n",
    "        print(\"#%s\" % (t + 1), '1')\n",
    "    else:\n",
    "        print(\"#%s\" % (t + 1), '0')   \n"
   ]
  },
  {
   "cell_type": "code",
   "execution_count": 6,
   "metadata": {},
   "outputs": [
    {
     "data": {
      "text/plain": [
       "False"
      ]
     },
     "execution_count": 6,
     "metadata": {},
     "output_type": "execute_result"
    }
   ],
   "source": [
    "t = \"abcdefg\"\n",
    "\n",
    "'abdc' in t"
   ]
  },
  {
   "cell_type": "code",
   "execution_count": 16,
   "metadata": {},
   "outputs": [
    {
     "name": "stdout",
     "output_type": "stream",
     "text": [
      "10 10\n",
      "GOFFAKWFSM\n",
      "OYECRSLDLQ\n",
      "UJAJQVSYYC\n",
      "JAEZNNZEAJ\n",
      "WJAKCGSGCF\n",
      "QKUDGATDQL\n",
      "OKGPFPYRKQ\n",
      "TDCXBMQTIO\n",
      "UNADRPNETZ\n",
      "ZATWDEKDQF\n",
      "['J', 'A', 'E', 'Z', 'N', 'N', 'Z', 'E', 'A', 'J']\n"
     ]
    }
   ],
   "source": [
    "T = int(input())\n",
    "\n",
    "for t in range(T):  \n",
    "    N, M = map(int, input().split())\n",
    "    str_map = []\n",
    "\n",
    "    for n in range(N):\n",
    "        letters = list(input())\n",
    "        str_map.append(letters)\n",
    "\n",
    "    word = []\n",
    "    for letters in str_map:\n",
    "        for i in range((M - 1), N):\n",
    "            for letter in letters[i - M + 1: i+1]:\n",
    "                word.append(letter)\n",
    "            if word == list(reversed(word)):\n",
    "                print(\"#%s\" % (t + 1), end = ' ')\n",
    "                for result in word:\n",
    "                    print(result, end = '')\n",
    "                print()\n",
    "            else:\n",
    "                word = []\n",
    "\n",
    "    str_map_transposed = [list(x) for x in zip(*str_map)]\n",
    "    for letters in str_map_transposed:\n",
    "        for i in range((M - 1), N):\n",
    "            for letter in letters[i - M + 1: i+1]:\n",
    "                word.append(letter)\n",
    "            if word == list(reversed(word)):\n",
    "                print(\"#%s\" % (t + 1), end = ' ')\n",
    "                for result in word:\n",
    "                    print(result, end = '')\n",
    "                print()\n",
    "            else:\n",
    "                word = []\n",
    "                \n"
   ]
  },
  {
   "cell_type": "code",
   "execution_count": null,
   "metadata": {},
   "outputs": [],
   "source": [
    "N, M = map(int, input().split())\n",
    "str_map = []\n",
    "\n",
    "for n in range(N):\n",
    "    letters = list(input())\n",
    "    str_map.append(letters)\n",
    "\n",
    "word = []\n",
    "for i in range(M):\n",
    "    for m in range(N):\n",
    "        word.append(str_map[m][i])\n",
    "        "
   ]
  },
  {
   "cell_type": "code",
   "execution_count": null,
   "metadata": {},
   "outputs": [],
   "source": [
    "10 10\n",
    "GOFFAKWFSM\n",
    "OYECRSLDLQ\n",
    "UJAJQVSYYC\n",
    "JAEZNNZEAJ\n",
    "WJAKCGSGCF\n",
    "QKUDGATDQL\n",
    "OKGPFPYRKQ\n",
    "TDCXBMQTIO\n",
    "UNADRPNETZ\n",
    "ZATWDEKDQF"
   ]
  },
  {
   "cell_type": "code",
   "execution_count": 10,
   "metadata": {},
   "outputs": [
    {
     "data": {
      "text/plain": [
       "<reversed at 0x6264acbd08>"
      ]
     },
     "execution_count": 10,
     "metadata": {},
     "output_type": "execute_result"
    }
   ],
   "source": [
    "a = 'abcd'\n",
    "reversed(a)"
   ]
  },
  {
   "cell_type": "code",
   "execution_count": 14,
   "metadata": {},
   "outputs": [
    {
     "data": {
      "text/plain": [
       "True"
      ]
     },
     "execution_count": 14,
     "metadata": {},
     "output_type": "execute_result"
    }
   ],
   "source": [
    "word = list('JAEZNNZEAJ')\n",
    "\n",
    "t == list(reversed(word))\n"
   ]
  },
  {
   "cell_type": "code",
   "execution_count": 20,
   "metadata": {},
   "outputs": [
    {
     "data": {
      "text/plain": [
       "[[1, 4, 7], [2, 5, 8], [3, 6, 9]]"
      ]
     },
     "execution_count": 20,
     "metadata": {},
     "output_type": "execute_result"
    }
   ],
   "source": [
    "A = [[1, 2, 3], [4, 5, 6], [7, 8, 9]]\n",
    "\n",
    "[list(x) for x in zip(*A)]\n"
   ]
  },
  {
   "cell_type": "code",
   "execution_count": 25,
   "metadata": {},
   "outputs": [
    {
     "data": {
      "text/plain": [
       "3"
      ]
     },
     "execution_count": 25,
     "metadata": {},
     "output_type": "execute_result"
    }
   ],
   "source": [
    "t = 'abcdefff'\n",
    "t.count('f')"
   ]
  },
  {
   "cell_type": "code",
   "execution_count": 32,
   "metadata": {},
   "outputs": [
    {
     "name": "stdout",
     "output_type": "stream",
     "text": [
      "2\n"
     ]
    }
   ],
   "source": [
    "T = int(input())\n",
    "\n",
    "for t in range(T):    \n",
    "    str1 = input()\n",
    "    str2 = input()\n",
    "\n",
    "    max_value = 0\n",
    "    for letter in str1:\n",
    "        if max_value < str2.count(letter):\n",
    "            max_value = str2.count(letter)\n",
    "    print(\"#%s\" % (t + 1), max_value)"
   ]
  },
  {
   "cell_type": "code",
   "execution_count": 6,
   "metadata": {},
   "outputs": [
    {
     "name": "stdout",
     "output_type": "stream",
     "text": [
      "1\n",
      "5\n",
      "1 4 7 8 0\n",
      "#1 0 1 4 7 8 \n"
     ]
    }
   ],
   "source": [
    "T = int(input())\n",
    "for t in range(T):\n",
    "    N = int(input())\n",
    "    case = list(map(int, input().split()))\n",
    "    case_sorted = sorted(case)\n",
    "    \n",
    "    print(\"#%s\" %(t+1), end = ' ')\n",
    "    for num in case_sorted:\n",
    "        print(num, end = ' ')\n",
    "    print('')\n",
    "    "
   ]
  },
  {
   "cell_type": "code",
   "execution_count": 3,
   "metadata": {},
   "outputs": [
    {
     "name": "stdout",
     "output_type": "stream",
     "text": [
      "[3, 4, 5, 7, 7]\n"
     ]
    }
   ],
   "source": [
    "a = [4,3,7,5,7]\n",
    "\n",
    "b = sorted(a)\n",
    "print(b)"
   ]
  },
  {
   "cell_type": "code",
   "execution_count": 4,
   "metadata": {},
   "outputs": [
    {
     "name": "stdout",
     "output_type": "stream",
     "text": [
      "3\n",
      "A 17\n",
      "B 7\n",
      "C 5\n",
      "AAAAAAAAAA\n",
      "AAAAAAABBB\n",
      "BBBBCCCCC"
     ]
    }
   ],
   "source": [
    "# T = int(input())\n",
    "# for t in range(T):    \n",
    "N = int(input())\n",
    "\n",
    "str_comp_list = []\n",
    "str_decomp = []\n",
    "\n",
    "for n in range(N):\n",
    "    str_comp = list(input().split())\n",
    "    str_comp_list.append(str_comp)\n",
    "\n",
    "for i in str_comp_list:\n",
    "    for j in range(int(i[1])):\n",
    "        str_decomp.append(i[0])\n",
    "\n",
    "for index, case in enumerate(str_decomp):\n",
    "    if index % 10 == 9:\n",
    "        print(case)\n",
    "    else:\n",
    "        print(case, end = '')\n"
   ]
  },
  {
   "cell_type": "code",
   "execution_count": 10,
   "metadata": {},
   "outputs": [
    {
     "data": {
      "text/plain": [
       "2"
      ]
     },
     "execution_count": 10,
     "metadata": {},
     "output_type": "execute_result"
    }
   ],
   "source": [
    "a = [5,4,1,2,3]\n"
   ]
  },
  {
   "cell_type": "code",
   "execution_count": 14,
   "metadata": {},
   "outputs": [
    {
     "name": "stdout",
     "output_type": "stream",
     "text": [
      "['A', 'A', 'A', 'A', 'A', 'A', 'A', 'A', 'A', 'A', 'A', 'A', 'A', 'A', 'A', 'A', 'A', 'B', 'B', 'B', 'B', 'B', 'B', 'B', 'C', 'C', 'C', 'C', 'C']\n"
     ]
    }
   ],
   "source": [
    "str_comp_list = [['A',17],['B',7],['C',5]]\n",
    "str_decomp = []\n",
    "\n",
    "for i in str_comp_list:\n",
    "    for j in range(i[1]):\n",
    "        str_decomp.append(i[0])\n",
    "\n",
    "print(str_decomp)"
   ]
  },
  {
   "cell_type": "code",
   "execution_count": 15,
   "metadata": {},
   "outputs": [
    {
     "name": "stdout",
     "output_type": "stream",
     "text": [
      "A 17\n",
      "['A', '17']\n"
     ]
    }
   ],
   "source": [
    "str_comp = list(input().split())\n",
    "\n",
    "print(str_comp)"
   ]
  },
  {
   "cell_type": "code",
   "execution_count": 16,
   "metadata": {},
   "outputs": [
    {
     "data": {
      "text/plain": [
       "17"
      ]
     },
     "execution_count": 16,
     "metadata": {},
     "output_type": "execute_result"
    }
   ],
   "source": [
    "int('17')"
   ]
  },
  {
   "cell_type": "code",
   "execution_count": null,
   "metadata": {},
   "outputs": [],
   "source": []
  },
  {
   "cell_type": "code",
   "execution_count": null,
   "metadata": {},
   "outputs": [],
   "source": []
  },
  {
   "cell_type": "code",
   "execution_count": null,
   "metadata": {},
   "outputs": [],
   "source": []
  }
 ],
 "metadata": {
  "kernelspec": {
   "display_name": "Python 3",
   "language": "python",
   "name": "python3"
  },
  "language_info": {
   "codemirror_mode": {
    "name": "ipython",
    "version": 3
   },
   "file_extension": ".py",
   "mimetype": "text/x-python",
   "name": "python",
   "nbconvert_exporter": "python",
   "pygments_lexer": "ipython3",
   "version": "3.7.5"
  }
 },
 "nbformat": 4,
 "nbformat_minor": 2
}
