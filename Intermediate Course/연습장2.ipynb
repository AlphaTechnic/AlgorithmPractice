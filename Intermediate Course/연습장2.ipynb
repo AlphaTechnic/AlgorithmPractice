{
 "cells": [
  {
   "cell_type": "code",
   "execution_count": 10,
   "metadata": {},
   "outputs": [
    {
     "name": "stdout",
     "output_type": "stream",
     "text": [
      "3\n",
      "3 6\n",
      "#1 1\n",
      "5 15\n",
      "#2 1\n",
      "5 10\n",
      "#3 0\n"
     ]
    }
   ],
   "source": [
    "T = int(input())\n",
    "\n",
    "A = [1, 2, 3, 4, 5, 6, 7, 8, 9, 10, 11, 12]\n",
    "n = len(A)\n",
    "subsets_A = []\n",
    "subset_A = []\n",
    "\n",
    "for i in range(1<<n):\n",
    "    for j in range(n):\n",
    "        if i & (1<<j):\n",
    "            subset_A.append(A[j])\n",
    "    subsets_A.append(subset_A)\n",
    "    subset_A = []\n",
    "\n",
    "for t in range(T):\n",
    "    N, K = map(int, input().split())\n",
    "\n",
    "    lenN_subsets_A = []\n",
    "    for subset in subsets_A:\n",
    "        if len(subset) == N:\n",
    "            lenN_subsets_A.append(subset)\n",
    "\n",
    "    count = 0\n",
    "    for lenN_subset in lenN_subsets_A:\n",
    "        if sum(lenN_subset) == K:\n",
    "            count += 1\n",
    "        \n",
    "    print(\"#%s\" %(t + 1), count)\n",
    "\n",
    "    "
   ]
  },
  {
   "cell_type": "code",
   "execution_count": 5,
   "metadata": {},
   "outputs": [
    {
     "name": "stdout",
     "output_type": "stream",
     "text": [
      "1\n",
      "400 300 350\n",
      "#1 A\n"
     ]
    }
   ],
   "source": [
    "T = int(input())\n",
    "for t in range(T):\n",
    "    P, Pa, Pb = map(int, input().split())\n",
    "    l, r = 1, P\n",
    "    c = int((l+r)/2)\n",
    "    \n",
    "    count_a = 0\n",
    "    while c != Pa:\n",
    "        if c < Pa:\n",
    "            l = c\n",
    "            c = int((l+r)/2)\n",
    "            count_a += 1\n",
    "        elif c > Pa:\n",
    "            r = c\n",
    "            c = int((l+r)/2)\n",
    "            count_a += 1\n",
    "            \n",
    "    l, r = 1, P\n",
    "    c = int((l+r)/2)\n",
    "    \n",
    "    count_b = 0\n",
    "    while c != Pb:\n",
    "        if c < Pb:\n",
    "            l = c\n",
    "            c = int((l+r)/2)\n",
    "            count_b += 1\n",
    "        elif c > Pb:\n",
    "            r = c\n",
    "            c = int((l+r)/2)\n",
    "            count_b += 1\n",
    "            \n",
    "    if count_a < count_b:\n",
    "        print(\"#%s\" % (t + 1), \"A\")\n",
    "    elif count_a > count_b:\n",
    "        print(\"#%s\" % (t + 1), \"B\")\n",
    "    else:\n",
    "        print(\"#%s\" % (t + 1), '0')\n",
    "    \n",
    "    \n",
    "    "
   ]
  },
  {
   "cell_type": "code",
   "execution_count": 1,
   "metadata": {},
   "outputs": [
    {
     "ename": "KeyboardInterrupt",
     "evalue": "",
     "output_type": "error",
     "traceback": [
      "\u001b[1;31m---------------------------------------------------------------------------\u001b[0m",
      "\u001b[1;31mKeyboardInterrupt\u001b[0m                         Traceback (most recent call last)",
      "\u001b[1;32m<ipython-input-1-0022285c5e8f>\u001b[0m in \u001b[0;36m<module>\u001b[1;34m\u001b[0m\n\u001b[0;32m     23\u001b[0m         \u001b[0mc\u001b[0m \u001b[1;33m=\u001b[0m \u001b[0mint\u001b[0m\u001b[1;33m(\u001b[0m\u001b[1;33m(\u001b[0m\u001b[0ml\u001b[0m\u001b[1;33m+\u001b[0m\u001b[0mr\u001b[0m\u001b[1;33m)\u001b[0m\u001b[1;33m/\u001b[0m\u001b[1;36m2\u001b[0m\u001b[1;33m)\u001b[0m\u001b[1;33m\u001b[0m\u001b[1;33m\u001b[0m\u001b[0m\n\u001b[0;32m     24\u001b[0m         \u001b[0mcount_b\u001b[0m \u001b[1;33m+=\u001b[0m \u001b[1;36m1\u001b[0m\u001b[1;33m\u001b[0m\u001b[1;33m\u001b[0m\u001b[0m\n\u001b[1;32m---> 25\u001b[1;33m     \u001b[1;32melif\u001b[0m \u001b[0mc\u001b[0m \u001b[1;33m>\u001b[0m \u001b[0mPb\u001b[0m\u001b[1;33m:\u001b[0m\u001b[1;33m\u001b[0m\u001b[1;33m\u001b[0m\u001b[0m\n\u001b[0m\u001b[0;32m     26\u001b[0m         \u001b[0mr\u001b[0m \u001b[1;33m=\u001b[0m \u001b[0mc\u001b[0m\u001b[1;33m\u001b[0m\u001b[1;33m\u001b[0m\u001b[0m\n\u001b[0;32m     27\u001b[0m         \u001b[0mc\u001b[0m \u001b[1;33m=\u001b[0m \u001b[0mint\u001b[0m\u001b[1;33m(\u001b[0m\u001b[1;33m(\u001b[0m\u001b[0ml\u001b[0m\u001b[1;33m+\u001b[0m\u001b[0mr\u001b[0m\u001b[1;33m)\u001b[0m\u001b[1;33m/\u001b[0m\u001b[1;36m2\u001b[0m\u001b[1;33m)\u001b[0m\u001b[1;33m\u001b[0m\u001b[1;33m\u001b[0m\u001b[0m\n",
      "\u001b[1;31mKeyboardInterrupt\u001b[0m: "
     ]
    }
   ],
   "source": [
    "P, Pa, Pb = 400, 300, 350\n",
    "l, r = 1, P\n",
    "c = int((l+r)/2)\n",
    "\n",
    "count_a = 0\n",
    "while c != Pa:\n",
    "    if c < Pa:\n",
    "        l = c\n",
    "        c = int((l+r)/2)\n",
    "        count_a += 1\n",
    "    elif c > Pa:\n",
    "        r = c\n",
    "        c = int((l+r)/2)\n",
    "        count_a += 1\n",
    "\n",
    "l, r = 1, P\n",
    "c = int((l+r)/2)\n",
    "\n",
    "count_b = 0\n",
    "while c != Pb:\n",
    "    if c < Pb:\n",
    "        l = c\n",
    "        c = int((l+r)/2)\n",
    "        count_b += 1\n",
    "    elif c > Pb:\n",
    "        r = c\n",
    "        c = int((l+r)/2)\n",
    "        count_b += 1\n",
    "\n",
    "if count_a < count_b:\n",
    "    print(\"A\")\n",
    "elif count_a > count_b:\n",
    "    print(\"B\")\n",
    "else:\n",
    "    print('0')\n",
    "    "
   ]
  },
  {
   "cell_type": "code",
   "execution_count": 28,
   "metadata": {},
   "outputs": [
    {
     "name": "stdout",
     "output_type": "stream",
     "text": [
      "3\n",
      "10\n",
      "1 2 3 4 5 6 7 8 9 10\n",
      "#1 10 1 9 2 8 3 7 4 6 5 \n",
      "10\n",
      "67 39 16 49 60 28 8 85 89 11\n",
      "#2 89 8 85 11 67 16 60 28 49 39 \n",
      "20\n",
      "3 69 21 46 43 60 62 97 64 30 17 88 18 98 71 75 59 36 9 26\n",
      "#3 98 3 97 9 88 17 75 18 71 21 \n"
     ]
    }
   ],
   "source": [
    "T = int(input())\n",
    "for t in range(T):\n",
    "    N = int(input())\n",
    "    numlist = sorted(list(map(int, input().split())), reverse = True)\n",
    "    sorted_list = []\n",
    "\n",
    "    if len(numlist) % 2 == 0:\n",
    "        while len(numlist) != 0:\n",
    "            sorted_list.append(numlist[0])\n",
    "            numlist.remove(numlist[0])\n",
    "            sorted_list.append(numlist[len(numlist)-1])\n",
    "            numlist.remove(numlist[len(numlist)-1])\n",
    "            \n",
    "        print(\"#%s\" % (t + 1), end = ' ')\n",
    "        for num in sorted_list[:10]:\n",
    "            print(num, end = ' ')\n",
    "        print()\n",
    "\n",
    "    if len(numlist) % 2 == 1:\n",
    "        while len(numlist) != 1:\n",
    "            sorted_list.append(numlist[0])\n",
    "            numlist.remove(numlist[0])\n",
    "            sorted_list.append(numlist[len(numlist)-1])\n",
    "            numlist.remove(numlist[len(numlist)-1])\n",
    "        sorted_list.append(numlist[0])\n",
    "        \n",
    "        print(\"#%s\" % (t + 1), end = ' ')\n",
    "        for num in sorted_list[:10]:\n",
    "            print(num, end = ' ')\n",
    "        print()\n",
    "\n"
   ]
  },
  {
   "cell_type": "code",
   "execution_count": 23,
   "metadata": {},
   "outputs": [
    {
     "name": "stdout",
     "output_type": "stream",
     "text": [
      "<generator object <genexpr> at 0x0000001EFB098AC8>\n"
     ]
    }
   ],
   "source": [
    "a=[2,3,4,1]\n",
    "print(i for i in a"
   ]
  },
  {
   "cell_type": "code",
   "execution_count": 9,
   "metadata": {},
   "outputs": [
    {
     "data": {
      "text/plain": [
       "4"
      ]
     },
     "execution_count": 9,
     "metadata": {},
     "output_type": "execute_result"
    }
   ],
   "source": [
    "round(4.5)"
   ]
  },
  {
   "cell_type": "code",
   "execution_count": 6,
   "metadata": {},
   "outputs": [],
   "source": [
    "a = [1,2,3,4,5]\n",
    "b = []\n",
    "for i in range(4,-1, 1):\n",
    "    print(a[i])"
   ]
  },
  {
   "cell_type": "code",
   "execution_count": 14,
   "metadata": {},
   "outputs": [
    {
     "data": {
      "text/plain": [
       "0"
      ]
     },
     "execution_count": 14,
     "metadata": {},
     "output_type": "execute_result"
    }
   ],
   "source": [
    "4%2"
   ]
  },
  {
   "cell_type": "code",
   "execution_count": 27,
   "metadata": {},
   "outputs": [
    {
     "name": "stdout",
     "output_type": "stream",
     "text": [
      "#1 10 9 8 7 #2 10 9 8 7 #3 10 9 8 7 #4 10 9 8 7 #5 10 9 8 7 #6 10 9 8 7 #7 10 9 8 7 #8 10 9 8 7 #9 10 9 8 7 #10 10 9 8 7 "
     ]
    }
   ],
   "source": [
    "sorted_list = [10, 9 ,8 ,7]\n",
    "for t in range(10):\n",
    "    print(\"#%s\" % (t+1), end=' ')\n",
    "    for num in sorted_list[:10]:\n",
    "        print(num, end=' ')"
   ]
  }
 ],
 "metadata": {
  "kernelspec": {
   "display_name": "Python 3",
   "language": "python",
   "name": "python3"
  },
  "language_info": {
   "codemirror_mode": {
    "name": "ipython",
    "version": 3
   },
   "file_extension": ".py",
   "mimetype": "text/x-python",
   "name": "python",
   "nbconvert_exporter": "python",
   "pygments_lexer": "ipython3",
   "version": "3.7.5"
  }
 },
 "nbformat": 4,
 "nbformat_minor": 2
}
