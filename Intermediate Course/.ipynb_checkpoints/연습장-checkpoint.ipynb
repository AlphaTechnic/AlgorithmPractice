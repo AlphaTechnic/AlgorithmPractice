{
 "cells": [
  {
   "cell_type": "code",
   "execution_count": 5,
   "metadata": {},
   "outputs": [
    {
     "name": "stdout",
     "output_type": "stream",
     "text": [
      "1 2 3\n",
      "1 3 2\n",
      "2 1 3\n",
      "2 3 1\n",
      "3 1 2\n",
      "3 2 1\n"
     ]
    }
   ],
   "source": [
    "for i1 in range(1,4):\n",
    "    for i2 in range(1,4):\n",
    "        if i1 != i2:\n",
    "            for i3 in range(1,4):\n",
    "                if i3 != i1 and i3 != i2:\n",
    "                    print(i1, i2, i3)"
   ]
  },
  {
   "cell_type": "code",
   "execution_count": 6,
   "metadata": {},
   "outputs": [
    {
     "data": {
      "text/plain": [
       "int"
      ]
     },
     "execution_count": 6,
     "metadata": {},
     "output_type": "execute_result"
    }
   ],
   "source": [
    "a = [1, 1, 2, 3]\n",
    "type(a[1])"
   ]
  },
  {
   "cell_type": "code",
   "execution_count": 34,
   "metadata": {},
   "outputs": [
    {
     "name": "stdout",
     "output_type": "stream",
     "text": [
      "1 1 1 1 2 3\n",
      "Baby-git\n"
     ]
    }
   ],
   "source": [
    "nums = list(map(int, input().split()))\n",
    "nums_sorted = sorted(nums)\n",
    "\n",
    "if nums_sorted[0] == nums_sorted[1] == nums_sorted[2]:\n",
    "    if nums_sorted[3] == nums_sorted[4] == nums_sorted[5] or nums_sorted[3] + 2 == nums_sorted[4] + 1 == \\\n",
    "                    nums_sorted[5]:\n",
    "                print(\"Baby-git\")\n",
    "elif (nums_sorted[0] + 1 == nums_sorted[1] + 1 == nums_sorted[2] == nums_sorted[3]\n",
    "        == nums_sorted[4] - 1 == nums_sorted[5] - 1):\n",
    "    print(\"Baby-git\")\n",
    "elif (nums_sorted[0] + 2 == nums_sorted[1] + 1 == nums_sorted[2] + 1 == nums_sorted[3]\n",
    "      == nums_sorted[4] == nums_sorted[5] - 1):\n",
    "    print(\"Baby-git\")\n",
    "elif (nums_sorted[0] + 2 == nums_sorted[1] + 1 == nums_sorted[2] == nums_sorted[3]\n",
    "      == nums_sorted[4] - 1 == nums_sorted[5] - 2):\n",
    "    print(\"Baby-git\")\n",
    "elif (nums_sorted[0] + 2 == nums_sorted[1] + 1 == nums_sorted[2] and nums_sorted[3] + 2 == nums_sorted[4] + 1 ==\n",
    "      nums_sorted[5]):\n",
    "    print(\"Baby-git\")\n",
    "else:\n",
    "    print(\"None\")\n",
    "    \n"
   ]
  },
  {
   "cell_type": "code",
   "execution_count": 41,
   "metadata": {},
   "outputs": [
    {
     "name": "stdout",
     "output_type": "stream",
     "text": [
      "1 1 1 3 2 1 \n"
     ]
    }
   ],
   "source": [
    "Baby_gin = []\n",
    "for i1 in range(10):\n",
    "    for i2 in range(10):\n",
    "        for i3 in range(10):\n",
    "            for i4 in range(10):\n",
    "                for i5 in range(10):\n",
    "                    for i6 in range(10):\n",
    "                        num_list = [i1, i2, i3, i4, i5, i6]\n",
    "                        if (num_list[0] == num_list[1] == num_list[2] and num_list[3] == num_list[4] == num_list[5]) or (num_list[0] + 2 == num_list[1] + 1 == num_list[2] and num_list[3] + 2 == num_list[4] + 1 == num_list[5]) or (num_list[0] == num_list[1] == num_list[2] and num_list[3] + 2 == num_list[4] + 1 == num_list[5]) or (num_list[0] + 2 == num_list[1] + 1 == num_list[2] and num_list[3] == num_list[4] == num_list[5]):\n",
    "                            Baby_gin.append(num_list)\n",
    "\n",
    "nums = list(map(int, input().split()))\n",
    "if nums in Baby_gin:\n",
    "    print(\"Baby-gin\")\n",
    "else:\n",
    "    print(\"None\")\n",
    "\n",
    "                    "
   ]
  },
  {
   "cell_type": "code",
   "execution_count": 60,
   "metadata": {},
   "outputs": [
    {
     "name": "stdout",
     "output_type": "stream",
     "text": [
      "1 2 1 3 4 1\n",
      "None\n"
     ]
    }
   ],
   "source": [
    "nums = list(map(int, input().split()))\n",
    "\n",
    "def test_0_3(somelist):\n",
    "    if somelist[0] == somelist[1] == somelist[2]:\n",
    "        return \"half Baby-gin\"\n",
    "    else:\n",
    "        for i in somelist[:3]:\n",
    "            for k in somelist[:3]:\n",
    "                if i != k:\n",
    "                    for l in somelist[:3]:\n",
    "                        if k != l:\n",
    "                            if i + 2 == k + 1 == l:\n",
    "                                return \"half Baby-gin\"\n",
    "\n",
    "    \n",
    "def test_4_6(somelist):\n",
    "    if somelist[0] == somelist[1] == somelist[2]:\n",
    "        return \"half Baby-gin\"\n",
    "    for i in somelist[:3]:\n",
    "        for k in somelist[:3]:\n",
    "            if i != k:\n",
    "                for l in somelist[:3]:\n",
    "                    if k != l:\n",
    "                        if i + 2 == k + 1 == l:\n",
    "                            return \"half Baby-gin\"\n",
    "\n",
    "if test_0_3(nums) == \"half Baby-gin\" and test_4_6(nums) == \"half Baby-gin\":\n",
    "    print (\"Baby-gin\")\n",
    "else:\n",
    "    print (\"None\")\n"
   ]
  },
  {
   "cell_type": "code",
   "execution_count": 1,
   "metadata": {},
   "outputs": [
    {
     "data": {
      "text/plain": [
       "'half Baby-gin'"
      ]
     },
     "execution_count": 1,
     "metadata": {},
     "output_type": "execute_result"
    }
   ],
   "source": [
    "def test_0_3(somelist):\n",
    "    if somelist[0] == somelist[1] == somelist[2]:\n",
    "        return \"half Baby-gin\"\n",
    "    else:\n",
    "        for i in somelist[:3]:\n",
    "            for k in somelist[:3]:\n",
    "                if i != k:\n",
    "                    for l in somelist[:3]:\n",
    "                        if k != l:\n",
    "                            if i + 2 == k + 1 == l:\n",
    "                                return \"half Baby-gin\"\n",
    "\n",
    "a = [1,1,1,2,3,4]\n",
    "test_0_3(a)"
   ]
  },
  {
   "cell_type": "code",
   "execution_count": null,
   "metadata": {},
   "outputs": [],
   "source": [
    "listA=[1,2,3,4,5,6]\n",
    "\n",
    "for a in listA:\n",
    "    for b in listA:\n",
    "        if a != b:\n",
    "            for c in listA:\n",
    "                if b!=c:\n",
    "                    "
   ]
  },
  {
   "cell_type": "code",
   "execution_count": 5,
   "metadata": {},
   "outputs": [
    {
     "name": "stdout",
     "output_type": "stream",
     "text": [
      "[0, 1, 2]\n",
      "1 1 2\n",
      "[0, 2, 1]\n",
      "1 2 1\n",
      "[1, 0, 2]\n",
      "1 1 2\n",
      "[1, 2, 0]\n",
      "1 2 1\n",
      "[2, 0, 1]\n",
      "2 1 1\n",
      "[2, 1, 0]\n",
      "2 1 1\n"
     ]
    }
   ],
   "source": [
    "a = '112'\n",
    "a_list = list(map(int, a))\n",
    "m = len(a)\n",
    "i = 0\n",
    "\n",
    "index_list = []\n",
    "for i1 in range(m):\n",
    "    index_list.append(i1)\n",
    "    for i2 in range(m):\n",
    "        if i2 in index_list:\n",
    "            continue\n",
    "        index_list.append(i2)\n",
    "        for i3 in range(m):\n",
    "            if i3 in index_list:\n",
    "                continue\n",
    "            index_list.append(i3)\n",
    "            print(index_list)\n",
    "            print(a[i1], a[i2], a[i3])\n",
    "            \n",
    "            index_list.pop()\n",
    "        index_list.pop()\n",
    "    index_list.pop()\n"
   ]
  },
  {
   "cell_type": "code",
   "execution_count": null,
   "metadata": {},
   "outputs": [],
   "source": [
    "5 20 5\n",
    "4 7 9 14 17\n",
    "\n",
    "          5  4  3  2  1  0\n",
    "                      5  4  3  2  1  0    \n",
    "                                     5   4   3   2   1   0\n",
    "                                                         5   4   3   2   1   0\n",
    "                                                                     5   4   3   2\n",
    "stops = [0, 1, 2, 3, 4, 5, 6, 7, 8, 9, 10, 11, 12, 13, 14, 15, 16, 17, 18, 19, 20]\n",
    "charges=[0, 0, 0, 0, 1, 0, 0, 1, 0, 1,  0,  0,  0,  0,  1,  0,  0,  1,  0,  0,  0]\n",
    "\n"
   ]
  },
  {
   "cell_type": "code",
   "execution_count": 1,
   "metadata": {},
   "outputs": [
    {
     "name": "stdout",
     "output_type": "stream",
     "text": [
      "1\n",
      "5 20 5\n",
      "4 7 9 14 17\n",
      "4\n"
     ]
    }
   ],
   "source": [
    "T = int(input())\n",
    "result = []\n",
    "\n",
    "for _ in range(T):\n",
    "    K, N, M = tuple(map(int, input().split()))\n",
    "    charge_index =  list(map(int, input().split()))\n",
    "    \n",
    "    charges = []\n",
    "    for i in range(N):\n",
    "        if i in charge_index:\n",
    "            charges.append(1)\n",
    "        else:\n",
    "            charges.append(0)\n",
    " \n",
    "    charge_point = 0\n",
    "    count = 0\n",
    "    \n",
    "    while charge_point < N - K:\n",
    "        check = False\n",
    "        for i in range(charge_point+K, charge_point, -1):\n",
    "            if charges[i] == 1:\n",
    "                count += 1\n",
    "                charge_point = i\n",
    "                check = True\n",
    "                break\n",
    "        if not check:\n",
    "            count = 0\n",
    "            charge_point = N - K\n",
    "            break\n",
    "            \n",
    "    result.append(count)\n",
    "    \n",
    "for index, case in enumerate(result):\n",
    "    print(\"#%s\" % (index + 1), case)\n"
   ]
  },
  {
   "cell_type": "code",
   "execution_count": 3,
   "metadata": {},
   "outputs": [
    {
     "ename": "TypeError",
     "evalue": "list indices must be integers or slices, not tuple",
     "output_type": "error",
     "traceback": [
      "\u001b[1;31m---------------------------------------------------------------------------\u001b[0m",
      "\u001b[1;31mTypeError\u001b[0m                                 Traceback (most recent call last)",
      "\u001b[1;32m<ipython-input-3-3755b6892a8c>\u001b[0m in \u001b[0;36m<module>\u001b[1;34m\u001b[0m\n\u001b[0;32m      1\u001b[0m \u001b[0ma\u001b[0m \u001b[1;33m=\u001b[0m \u001b[1;33m[\u001b[0m\u001b[1;36m1\u001b[0m\u001b[1;33m,\u001b[0m \u001b[1;36m2\u001b[0m\u001b[1;33m,\u001b[0m \u001b[1;36m3\u001b[0m\u001b[1;33m,\u001b[0m \u001b[1;36m4\u001b[0m\u001b[1;33m,\u001b[0m \u001b[1;36m5\u001b[0m\u001b[1;33m]\u001b[0m\u001b[1;33m\u001b[0m\u001b[1;33m\u001b[0m\u001b[0m\n\u001b[1;32m----> 2\u001b[1;33m \u001b[0mb\u001b[0m \u001b[1;33m=\u001b[0m \u001b[0ma\u001b[0m\u001b[1;33m[\u001b[0m\u001b[1;36m3\u001b[0m\u001b[1;33m:\u001b[0m\u001b[1;36m1\u001b[0m\u001b[1;33m,\u001b[0m \u001b[1;33m-\u001b[0m\u001b[1;36m1\u001b[0m\u001b[1;33m]\u001b[0m\u001b[1;33m\u001b[0m\u001b[1;33m\u001b[0m\u001b[0m\n\u001b[0m\u001b[0;32m      3\u001b[0m \u001b[0mprint\u001b[0m\u001b[1;33m(\u001b[0m\u001b[0mb\u001b[0m\u001b[1;33m)\u001b[0m\u001b[1;33m\u001b[0m\u001b[1;33m\u001b[0m\u001b[0m\n",
      "\u001b[1;31mTypeError\u001b[0m: list indices must be integers or slices, not tuple"
     ]
    }
   ],
   "source": [
    "a = [1, 2, 3, 4, 5]\n",
    "b = "
   ]
  },
  {
   "cell_type": "code",
   "execution_count": 10,
   "metadata": {},
   "outputs": [
    {
     "name": "stdout",
     "output_type": "stream",
     "text": [
      "3\n",
      "5\n",
      "49679\n",
      "5\n",
      "08217\n",
      "10\n",
      "7797946543\n",
      "#1 9 2\n",
      "#2 8 1\n",
      "#3 7 3\n"
     ]
    }
   ],
   "source": [
    "T =  int(input())\n",
    "result = []\n",
    "\n",
    "for _ in range(T):\n",
    "    N = int(input())\n",
    "    cards = list(map(int, list(input())))\n",
    "\n",
    "    numset_cards = sorted(list(set(cards)), reverse = True)\n",
    "    counts = []\n",
    "\n",
    "    for num in numset_cards:\n",
    "        count = cards.count(num)\n",
    "        counts.append(count)\n",
    "\n",
    "    index_max = counts.index(max(counts))\n",
    "\n",
    "    result.append([ numset_cards[index_max], counts[index_max] ])\n",
    "    \n",
    "for index, case in enumerate(result):\n",
    "    print(\"#%s\" % (index + 1), case[0], case[1])"
   ]
  },
  {
   "cell_type": "code",
   "execution_count": 22,
   "metadata": {},
   "outputs": [
    {
     "data": {
      "text/plain": [
       "[4, 3, 2, 1]"
      ]
     },
     "execution_count": 22,
     "metadata": {},
     "output_type": "execute_result"
    }
   ],
   "source": [
    "a = [4,2,3,1]\n",
    "sorted(a, reverse = True)"
   ]
  },
  {
   "cell_type": "code",
   "execution_count": 7,
   "metadata": {},
   "outputs": [
    {
     "name": "stdout",
     "output_type": "stream",
     "text": [
      "3\n"
     ]
    }
   ],
   "source": [
    "a = [1,2,3,4,4,4]\n",
    "b=a.count(4)\n",
    "print(b)"
   ]
  }
 ],
 "metadata": {
  "kernelspec": {
   "display_name": "Python 3",
   "language": "python",
   "name": "python3"
  },
  "language_info": {
   "codemirror_mode": {
    "name": "ipython",
    "version": 3
   },
   "file_extension": ".py",
   "mimetype": "text/x-python",
   "name": "python",
   "nbconvert_exporter": "python",
   "pygments_lexer": "ipython3",
   "version": "3.7.5"
  }
 },
 "nbformat": 4,
 "nbformat_minor": 2
}
