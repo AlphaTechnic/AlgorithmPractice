{
 "cells": [
  {
   "cell_type": "code",
   "execution_count": null,
   "metadata": {},
   "outputs": [],
   "source": [
    "an = 2an-2 + an-1 a1=1, a2=3\n",
    "\n"
   ]
  },
  {
   "cell_type": "code",
   "execution_count": 13,
   "metadata": {},
   "outputs": [
    {
     "name": "stdout",
     "output_type": "stream",
     "text": [
      "3\n",
      "30\n",
      "#1 5\n",
      "50\n",
      "#2 21\n",
      "70\n",
      "#3 85\n"
     ]
    }
   ],
   "source": [
    "T = int(input())\n",
    "for t in range(T):\n",
    "    N = int(input())\n",
    "\n",
    "    a = 1\n",
    "    b = 3\n",
    "    c = 0\n",
    "    count = 0\n",
    "    ans = []\n",
    "\n",
    "    while count<= int(N/10) - 3:\n",
    "        c = 2*a + b\n",
    "        count += 1\n",
    "\n",
    "        a = b\n",
    "        b = c\n",
    "\n",
    "    print(\"#%s\" % (t+1), c)"
   ]
  },
  {
   "cell_type": "code",
   "execution_count": 19,
   "metadata": {},
   "outputs": [
    {
     "name": "stdout",
     "output_type": "stream",
     "text": [
      "3\n",
      "30\n",
      "#1 5\n",
      "50\n",
      "#2 21\n",
      "70\n",
      "#3 85\n"
     ]
    }
   ],
   "source": [
    "def recur(n):\n",
    "    if n == 1:\n",
    "        return 1\n",
    "    elif n == 2:\n",
    "        return 3\n",
    "    return 2 * recur(n-2) + recur(n-1)\n",
    "\n",
    "T = int(input())\n",
    "for t in range(T):\n",
    "    N = int(input())\n",
    "    n = int(N / 10)\n",
    "    \n",
    "    print(\"#%s\" %(t+1), recur(n))\n"
   ]
  },
  {
   "cell_type": "code",
   "execution_count": 24,
   "metadata": {},
   "outputs": [
    {
     "name": "stdout",
     "output_type": "stream",
     "text": [
      "['a', 'b']\n"
     ]
    }
   ],
   "source": [
    "t = ['a','a','b']\n",
    "t.remove('a')\n",
    "print(t)"
   ]
  },
  {
   "cell_type": "code",
   "execution_count": 55,
   "metadata": {},
   "outputs": [
    {
     "name": "stdout",
     "output_type": "stream",
     "text": [
      "3\n",
      "ABCCB\n",
      "#1 1\n",
      "NNNASBBSNV\n",
      "#2 4\n",
      "UKJWHGGHNFTCRRCTWLALX\n",
      "#3 11\n"
     ]
    }
   ],
   "source": [
    "T = int(input())\n",
    "for t in range(T):\n",
    "    L = []\n",
    "    \n",
    "    for i in input():\n",
    "        L.append(i)\n",
    "\n",
    "    test = L[0]\n",
    "    newL = [L[0]]\n",
    "\n",
    "    while 1:\n",
    "        for i in range(1, len(L)):\n",
    "            if L[i] != test:\n",
    "                newL.append(L[i])\n",
    "                test = L[i]\n",
    "            else:\n",
    "                newL.pop()\n",
    "                test = '_'\n",
    "        if L == newL:\n",
    "            break\n",
    "        else:\n",
    "            L = newL\n",
    "            if L == []:\n",
    "                break\n",
    "            else:\n",
    "                newL = [L[0]]\n",
    "                test = L[0]\n",
    "\n",
    "    print(\"#%s\" %(t+1), len(L))\n",
    "            \n",
    "    "
   ]
  },
  {
   "cell_type": "code",
   "execution_count": 32,
   "metadata": {},
   "outputs": [
    {
     "name": "stdout",
     "output_type": "stream",
     "text": [
      "['b', 'c']\n"
     ]
    }
   ],
   "source": [
    "L = ['a','b','c']\n",
    "del(L[0])\n",
    "print(L)"
   ]
  },
  {
   "cell_type": "code",
   "execution_count": 28,
   "metadata": {},
   "outputs": [
    {
     "name": "stdout",
     "output_type": "stream",
     "text": [
      "123\n"
     ]
    }
   ],
   "source": [
    "c = '123'\n",
    "print(c)"
   ]
  },
  {
   "cell_type": "code",
   "execution_count": 36,
   "metadata": {},
   "outputs": [
    {
     "name": "stdout",
     "output_type": "stream",
     "text": [
      "[True]\n"
     ]
    }
   ],
   "source": [
    "a = []\n",
    "a.append(bool(3))\n",
    "print(a)"
   ]
  },
  {
   "cell_type": "code",
   "execution_count": 51,
   "metadata": {},
   "outputs": [
    {
     "name": "stdout",
     "output_type": "stream",
     "text": [
      "aabcd\n",
      "['aabcd']\n"
     ]
    }
   ],
   "source": [
    "a= input().split()\n",
    "print(a)"
   ]
  },
  {
   "cell_type": "code",
   "execution_count": 52,
   "metadata": {},
   "outputs": [
    {
     "data": {
      "text/plain": [
       "'[1, 2, 4]'"
      ]
     },
     "execution_count": 52,
     "metadata": {},
     "output_type": "execute_result"
    }
   ],
   "source": [
    "str([1,2,4])"
   ]
  },
  {
   "cell_type": "code",
   "execution_count": null,
   "metadata": {},
   "outputs": [],
   "source": []
  }
 ],
 "metadata": {
  "kernelspec": {
   "display_name": "Python 3",
   "language": "python",
   "name": "python3"
  },
  "language_info": {
   "codemirror_mode": {
    "name": "ipython",
    "version": 3
   },
   "file_extension": ".py",
   "mimetype": "text/x-python",
   "name": "python",
   "nbconvert_exporter": "python",
   "pygments_lexer": "ipython3",
   "version": "3.7.5"
  }
 },
 "nbformat": 4,
 "nbformat_minor": 2
}
