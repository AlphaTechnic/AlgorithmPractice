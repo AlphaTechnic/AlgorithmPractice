{
 "cells": [
  {
   "cell_type": "code",
   "execution_count": 5,
   "metadata": {},
   "outputs": [
    {
     "name": "stdout",
     "output_type": "stream",
     "text": [
      "2\n",
      "5\n",
      "49679\n",
      "5\n",
      "08217\n",
      "#1 9 2\n",
      "#2 8 1\n"
     ]
    }
   ],
   "source": [
    "T =  int(input())\n",
    "result = []\n",
    "\n",
    "for _ in range(T):\n",
    "    N = int(input())\n",
    "    cards = list(map(int, list(input())))\n",
    "\n",
    "    numset_cards = sorted(list(set(cards)), reverse = True)\n",
    "    counts = []\n",
    "\n",
    "    for num in numset_cards:\n",
    "        count = cards.count(num)\n",
    "        counts.append(count)\n",
    "\n",
    "    index_max = counts.index(max(counts))\n",
    "\n",
    "    result.append([ numset_cards[index_max], counts[index_max] ])\n",
    "\n",
    "for index, case in enumerate(result):\n",
    "    print(\"#%s\" % (index + 1), case[0], case[1] )"
   ]
  },
  {
   "cell_type": "code",
   "execution_count": null,
   "metadata": {},
   "outputs": [],
   "source": [
    "N = int(input())\n",
    "cards = list(map(int, list(input())))\n",
    "\n",
    "numset_cards = sorted(list(set(cards), reverse = True))\n",
    "counts = []\n"
   ]
  },
  {
   "cell_type": "code",
   "execution_count": 5,
   "metadata": {},
   "outputs": [
    {
     "name": "stdout",
     "output_type": "stream",
     "text": [
      "1\n",
      "20 19\n",
      "3266 9419 3087 9001 9321 1341 7379 6236 5795 8910 2990 2152 2249 4059 1394\n",
      "#1 3266\n"
     ]
    }
   ],
   "source": [
    "# 10 3\n",
    "# 1 2 3 4 5 6 7 8 9 10\n",
    "\n",
    "T = int(input())\n",
    "result = []\n",
    "\n",
    "for _ in range(T):    \n",
    "   \n",
    "    N, M = list(map(int, input().split()))\n",
    "    nums = list(map(int, input().split()))\n",
    "\n",
    "    sum_list =[]\n",
    "\n",
    "\n",
    "    for i in range(0, N - M + 1):\n",
    "        total = 0\n",
    "        for k in nums[i:i+M]:\n",
    "            total += k\n",
    "        sum_list.append(total)\n",
    "\n",
    "    diff_max_min = max(sum_list) - min(sum_list)\n",
    "    result.append(diff_max_min)\n",
    "\n",
    "for index, case in enumerate(result):\n",
    "    print(\"#%s\" % (index + 1), case)"
   ]
  },
  {
   "cell_type": "code",
   "execution_count": null,
   "metadata": {},
   "outputs": [],
   "source": [
    "\n",
    "\n",
    "\n",
    "for i in range(N):\n",
    "    a1 = list(map(int, input().split()))\n"
   ]
  },
  {
   "cell_type": "code",
   "execution_count": 3,
   "metadata": {},
   "outputs": [
    {
     "data": {
      "text/plain": [
       "[(1, 4, 7), (2, 5, 8)]"
      ]
     },
     "execution_count": 3,
     "metadata": {},
     "output_type": "execute_result"
    }
   ],
   "source": [
    "arr = [[1,2],[4,5],[7,8]]\n",
    "\n",
    "list(zip(*arr))"
   ]
  },
  {
   "cell_type": "code",
   "execution_count": 5,
   "metadata": {},
   "outputs": [
    {
     "name": "stdout",
     "output_type": "stream",
     "text": [
      "[0, 1, 0, 1, 0, 1, 0, 1, 0, 1]\n"
     ]
    }
   ],
   "source": [
    "N = 10\n",
    "charge_index = [1,3,5,7,9]\n",
    "\n",
    "# charges = []\n",
    "#     for i in range(N):\n",
    "#         if i in charge_index:\n",
    "#             charges.append(1)\n",
    "#         else:\n",
    "#             charges.append(0)\n",
    "#     # comprehension 으로 한번 해보기\n",
    "    \n",
    "charges = [1 if i in charge_index else 0 for i in range(N)]\n",
    "print(charges)"
   ]
  },
  {
   "cell_type": "code",
   "execution_count": 9,
   "metadata": {
    "scrolled": true
   },
   "outputs": [
    {
     "data": {
      "text/plain": [
       "8"
      ]
     },
     "execution_count": 9,
     "metadata": {},
     "output_type": "execute_result"
    }
   ],
   "source": [
    "10 & (1<<3)"
   ]
  },
  {
   "cell_type": "code",
   "execution_count": 21,
   "metadata": {},
   "outputs": [
    {
     "name": "stdout",
     "output_type": "stream",
     "text": [
      "[[1, 4, 7], [2, 5, 8], [3, 6, 9]]\n"
     ]
    }
   ],
   "source": [
    "A = [[1,2,3],[4,5,6],[7,8,9]]\n",
    "B = [list(x) for x in zip(*A)]\n",
    "print(B)\n"
   ]
  },
  {
   "cell_type": "code",
   "execution_count": 31,
   "metadata": {},
   "outputs": [
    {
     "name": "stdout",
     "output_type": "stream",
     "text": [
      "[[0, 0, 1, 1, 1]]\n"
     ]
    }
   ],
   "source": [
    "N, K = 5, 3\n",
    "puzzle = [[0, 0, 1, 1, 1], [1, 1, 1, 1, 0],\n",
    "          [0, 0, 1, 0, 0],[0, 1, 1, 1, 1], [1, 1, 1, 0, 1]]\n",
    "\n",
    "candi = []\n",
    "\n",
    "for i in puzzle:\n",
    "    num_1 = i.count(1)\n",
    "    if num_1 == K:\n",
    "        candi.append(i)\n",
    "        \n",
    "print(candi)"
   ]
  },
  {
   "cell_type": "code",
   "execution_count": 26,
   "metadata": {},
   "outputs": [
    {
     "data": {
      "text/plain": [
       "2"
      ]
     },
     "execution_count": 26,
     "metadata": {},
     "output_type": "execute_result"
    }
   ],
   "source": [
    "a = [1,2,3,4,5,5]\n",
    "a.count(5)"
   ]
  },
  {
   "cell_type": "code",
   "execution_count": 44,
   "metadata": {},
   "outputs": [
    {
     "name": "stdout",
     "output_type": "stream",
     "text": [
      "3\n",
      "3 17 1 39\n",
      "#1 4 56\n",
      "8 22 5 10\n",
      "#2 1 32\n",
      "6 53 2 12\n",
      "#3 9 5\n"
     ]
    }
   ],
   "source": [
    "T = int(input())\n",
    "for t in range(T):\n",
    "    time = list(map(int, input().split()))\n",
    "    hour = time[0]+ time[2]\n",
    "    minute = time[1]+ time[3]\n",
    "\n",
    "    if minute >= 60:\n",
    "        minute = minute - 60\n",
    "        hour = hour + 1\n",
    "    if hour >= 12:\n",
    "        hour = hour-12\n",
    "\n",
    "    print(\"#%s\" % (t+1) , hour, minute)"
   ]
  },
  {
   "cell_type": "code",
   "execution_count": 39,
   "metadata": {},
   "outputs": [
    {
     "data": {
      "text/plain": [
       "1"
      ]
     },
     "execution_count": 39,
     "metadata": {},
     "output_type": "execute_result"
    }
   ],
   "source": [
    "int(90 / 60)"
   ]
  },
  {
   "cell_type": "code",
   "execution_count": 8,
   "metadata": {},
   "outputs": [
    {
     "name": "stdout",
     "output_type": "stream",
     "text": [
      "20\n",
      "10\n"
     ]
    }
   ],
   "source": [
    "def swap(a,b):\n",
    "    para = a\n",
    "    a = b\n",
    "    b = para\n",
    "    return a,b\n",
    "\n",
    "x=10\n",
    "y=20\n",
    "x,y = swap(x,y)\n",
    "print(x)\n",
    "print(y)\n"
   ]
  },
  {
   "cell_type": "code",
   "execution_count": null,
   "metadata": {},
   "outputs": [],
   "source": []
  },
  {
   "cell_type": "code",
   "execution_count": null,
   "metadata": {},
   "outputs": [],
   "source": []
  },
  {
   "cell_type": "code",
   "execution_count": null,
   "metadata": {},
   "outputs": [],
   "source": []
  },
  {
   "cell_type": "code",
   "execution_count": null,
   "metadata": {},
   "outputs": [],
   "source": []
  },
  {
   "cell_type": "code",
   "execution_count": null,
   "metadata": {},
   "outputs": [],
   "source": []
  }
 ],
 "metadata": {
  "kernelspec": {
   "display_name": "Python 3",
   "language": "python",
   "name": "python3"
  },
  "language_info": {
   "codemirror_mode": {
    "name": "ipython",
    "version": 3
   },
   "file_extension": ".py",
   "mimetype": "text/x-python",
   "name": "python",
   "nbconvert_exporter": "python",
   "pygments_lexer": "ipython3",
   "version": "3.7.5"
  }
 },
 "nbformat": 4,
 "nbformat_minor": 2
}
