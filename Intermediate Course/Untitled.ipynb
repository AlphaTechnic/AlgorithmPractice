{
 "cells": [
  {
   "cell_type": "code",
   "execution_count": 5,
   "metadata": {},
   "outputs": [
    {
     "name": "stdout",
     "output_type": "stream",
     "text": [
      "2\n",
      "5\n",
      "49679\n",
      "5\n",
      "08217\n",
      "#1 9 2\n",
      "#2 8 1\n"
     ]
    }
   ],
   "source": [
    "T =  int(input())\n",
    "result = []\n",
    "\n",
    "for _ in range(T):\n",
    "    N = int(input())\n",
    "    cards = list(map(int, list(input())))\n",
    "\n",
    "    numset_cards = sorted(list(set(cards)), reverse = True)\n",
    "    counts = []\n",
    "\n",
    "    for num in numset_cards:\n",
    "        count = cards.count(num)\n",
    "        counts.append(count)\n",
    "\n",
    "    index_max = counts.index(max(counts))\n",
    "\n",
    "    result.append([ numset_cards[index_max], counts[index_max] ])\n",
    "\n",
    "for index, case in enumerate(result):\n",
    "    print(\"#%s\" % (index + 1), case[0], case[1] )"
   ]
  },
  {
   "cell_type": "code",
   "execution_count": null,
   "metadata": {},
   "outputs": [],
   "source": [
    "N = int(input())\n",
    "cards = list(map(int, list(input())))\n",
    "\n",
    "numset_cards = sorted(list(set(cards), reverse = True))\n",
    "counts = []\n"
   ]
  },
  {
   "cell_type": "code",
   "execution_count": 5,
   "metadata": {},
   "outputs": [
    {
     "name": "stdout",
     "output_type": "stream",
     "text": [
      "1\n",
      "20 19\n",
      "3266 9419 3087 9001 9321 1341 7379 6236 5795 8910 2990 2152 2249 4059 1394\n",
      "#1 3266\n"
     ]
    }
   ],
   "source": [
    "# 10 3\n",
    "# 1 2 3 4 5 6 7 8 9 10\n",
    "\n",
    "T = int(input())\n",
    "result = []\n",
    "\n",
    "for _ in range(T):    \n",
    "   \n",
    "    N, M = list(map(int, input().split()))\n",
    "    nums = list(map(int, input().split()))\n",
    "\n",
    "    sum_list =[]\n",
    "\n",
    "\n",
    "    for i in range(0, N - M + 1):\n",
    "        total = 0\n",
    "        for k in nums[i:i+M]:\n",
    "            total += k\n",
    "        sum_list.append(total)\n",
    "\n",
    "    diff_max_min = max(sum_list) - min(sum_list)\n",
    "    result.append(diff_max_min)\n",
    "\n",
    "for index, case in enumerate(result):\n",
    "    print(\"#%s\" % (index + 1), case)"
   ]
  },
  {
   "cell_type": "code",
   "execution_count": null,
   "metadata": {},
   "outputs": [],
   "source": [
    "\n",
    "\n",
    "\n",
    "for i in range(N):\n",
    "    a1 = list(map(int, input().split()))\n"
   ]
  },
  {
   "cell_type": "code",
   "execution_count": 3,
   "metadata": {},
   "outputs": [
    {
     "data": {
      "text/plain": [
       "[(1, 4, 7), (2, 5, 8)]"
      ]
     },
     "execution_count": 3,
     "metadata": {},
     "output_type": "execute_result"
    }
   ],
   "source": [
    "arr = [[1,2],[4,5],[7,8]]\n",
    "\n",
    "list(zip(*arr))"
   ]
  },
  {
   "cell_type": "code",
   "execution_count": 5,
   "metadata": {},
   "outputs": [
    {
     "name": "stdout",
     "output_type": "stream",
     "text": [
      "[0, 1, 0, 1, 0, 1, 0, 1, 0, 1]\n"
     ]
    }
   ],
   "source": [
    "N = 10\n",
    "charge_index = [1,3,5,7,9]\n",
    "\n",
    "# charges = []\n",
    "#     for i in range(N):\n",
    "#         if i in charge_index:\n",
    "#             charges.append(1)\n",
    "#         else:\n",
    "#             charges.append(0)\n",
    "#     # comprehension 으로 한번 해보기\n",
    "    \n",
    "charges = [1 if i in charge_index else 0 for i in range(N)]\n",
    "print(charges)"
   ]
  },
  {
   "cell_type": "code",
   "execution_count": 9,
   "metadata": {},
   "outputs": [
    {
     "data": {
      "text/plain": [
       "8"
      ]
     },
     "execution_count": 9,
     "metadata": {},
     "output_type": "execute_result"
    }
   ],
   "source": [
    "10 & (1<<3)"
   ]
  }
 ],
 "metadata": {
  "kernelspec": {
   "display_name": "Python 3",
   "language": "python",
   "name": "python3"
  },
  "language_info": {
   "codemirror_mode": {
    "name": "ipython",
    "version": 3
   },
   "file_extension": ".py",
   "mimetype": "text/x-python",
   "name": "python",
   "nbconvert_exporter": "python",
   "pygments_lexer": "ipython3",
   "version": "3.7.5"
  }
 },
 "nbformat": 4,
 "nbformat_minor": 2
}
